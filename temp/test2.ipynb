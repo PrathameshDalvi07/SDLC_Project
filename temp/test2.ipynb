{
 "cells": [
  {
   "cell_type": "code",
   "execution_count": 102,
   "metadata": {},
   "outputs": [
    {
     "data": {
      "text/plain": [
       "4"
      ]
     },
     "execution_count": 102,
     "metadata": {},
     "output_type": "execute_result"
    }
   ],
   "source": [
    "1+3"
   ]
  },
  {
   "cell_type": "code",
   "execution_count": 3,
   "metadata": {},
   "outputs": [],
   "source": [
    "from typing_extensions import TypedDict\n",
    "from langgraph.graph import StateGraph, START, END\n",
    "from langgraph.checkpoint.memory import MemorySaver\n",
    "from IPython.display import Image, display\n",
    "from typing import Annotated\n",
    "from langgraph.graph.message import add_messages\n",
    "from langchain_core.messages import AIMessage, HumanMessage, SystemMessage\n",
    "\n",
    "\n",
    "class State(TypedDict):\n",
    "    extra_message : str\n",
    "    messages : Annotated[list, add_messages]"
   ]
  },
  {
   "cell_type": "code",
   "execution_count": 4,
   "metadata": {},
   "outputs": [
    {
     "data": {
      "text/plain": [
       "AIMessage(content='Hello! How can I assist you today?', additional_kwargs={}, response_metadata={'token_usage': {'completion_tokens': 10, 'prompt_tokens': 30, 'total_tokens': 40, 'completion_time': 0.05, 'prompt_time': 0.003725157, 'queue_time': 0.048894283000000004, 'total_time': 0.053725157}, 'model_name': 'qwen-2.5-32b', 'system_fingerprint': 'fp_c527211fd1', 'finish_reason': 'stop', 'logprobs': None}, id='run-9da39570-8dac-433b-819c-135c8e46cedb-0', usage_metadata={'input_tokens': 30, 'output_tokens': 10, 'total_tokens': 40})"
      ]
     },
     "execution_count": 4,
     "metadata": {},
     "output_type": "execute_result"
    }
   ],
   "source": [
    "from dotenv import load_dotenv\n",
    "load_dotenv()\n",
    "import os\n",
    "\n",
    "from langchain_groq import ChatGroq\n",
    "\n",
    "\n",
    "#os.environ[\"OPENAI_API_KEY\"]=os.getenv(\"OPENAI_API_KEY\")\n",
    "os.environ[\"GROQ_API_KEY\"]=os.getenv(\"GROQ_API_KEY\")\n",
    "\n",
    "\n",
    "llm=ChatGroq(model=\"qwen-2.5-32b\")\n",
    "#llm = ChatOpenAI(model=\"gpt-4o\")\n",
    "result=llm.invoke(\"Hello\")\n",
    "result\n"
   ]
  },
  {
   "cell_type": "code",
   "execution_count": 5,
   "metadata": {},
   "outputs": [],
   "source": [
    "def step_1(state):\n",
    "    print(\"---Step 1---\")\n",
    "    return {\"messages\": [llm.invoke(state[\"messages\"])], \"extra_message\": \"Used German Language\"}\n",
    "\n",
    "\n",
    "def step_2(state):\n",
    "    print(\"---Step 2---\")\n",
    "    return {\"messages\": [llm.invoke(state[\"messages\"])], \"extra_message\": \"Used Hindi Language\"}\n",
    "\n",
    "\n",
    "def step_3(state):\n",
    "    print(\"---Step 3---\")\n",
    "    return {\"messages\": [llm.invoke(state[\"messages\"])], \"extra_message\": \"Used Marathi Lanaguage\"}\n",
    "\n",
    "def step_4(state):\n",
    "    print(\"---Step 4---\")\n",
    "    pass\n",
    "\n",
    "def step_5(state):\n",
    "    print(\"---Step 5---\")\n",
    "    return {\"messages\": [llm.invoke(state[\"messages\"])], \"extra_message\": \"Used English Lanaguage\"}\n",
    "\n",
    "def should_continue(state: State):\n",
    "    print(\"should_continue XXXX \",state)\n",
    "    input = state.get('extra_message',None)\n",
    "    print(\"should_continue XXXX \",input)\n",
    "    if input:\n",
    "        return \"step_2\"\n",
    "    return \"step_5\""
   ]
  },
  {
   "cell_type": "code",
   "execution_count": 6,
   "metadata": {},
   "outputs": [
    {
     "data": {
      "image/png": "[encoded data removed]",
      "text/plain": [
       "<IPython.core.display.Image object>"
      ]
     },
     "metadata": {},
     "output_type": "display_data"
    }
   ],
   "source": [
    "builder = StateGraph(State)\n",
    "builder.add_node(\"step_1\", step_1)\n",
    "builder.add_node(\"step_2\", step_2)\n",
    "builder.add_node(\"step_3\", step_3)\n",
    "builder.add_node(\"step_4\", step_4)\n",
    "builder.add_node(\"step_5\", step_5)\n",
    "\n",
    "builder.add_edge(START, \"step_1\")\n",
    "builder.add_edge(\"step_1\", \"step_2\")\n",
    "builder.add_edge(\"step_2\", \"step_3\")\n",
    "builder.add_edge(\"step_3\", \"step_4\")\n",
    "builder.add_conditional_edges(\"step_4\", should_continue, [\"step_5\", \"step_2\"])\n",
    "builder.add_edge(\"step_5\", END)\n",
    "\n",
    "# Set up memory\n",
    "memory = MemorySaver()\n",
    "\n",
    "# Add\n",
    "graph = builder.compile(checkpointer=memory, interrupt_before=[\"step_4\"])\n",
    "# graph = builder.compile(checkpointer=memory)\n",
    "\n",
    "# View\n",
    "display(Image(graph.get_graph().draw_mermaid_png()))"
   ]
  },
  {
   "cell_type": "code",
   "execution_count": 7,
   "metadata": {},
   "outputs": [
    {
     "name": "stdout",
     "output_type": "stream",
     "text": [
      "{'extra_message': '', 'messages': [HumanMessage(content='What is Love in 3 Words', additional_kwargs={}, response_metadata={}, id='57e0f33f-6f1a-4735-8a57-4e04cba868ce')]}\n",
      "---Step 1---\n",
      "{'extra_message': 'Used German Language', 'messages': [HumanMessage(content='What is Love in 3 Words', additional_kwargs={}, response_metadata={}, id='57e0f33f-6f1a-4735-8a57-4e04cba868ce'), AIMessage(content='Emotional Connection Intimacy', additional_kwargs={}, response_metadata={'token_usage': {'completion_tokens': 7, 'prompt_tokens': 36, 'total_tokens': 43, 'completion_time': 0.035, 'prompt_time': 0.004371718, 'queue_time': 0.048787320999999995, 'total_time': 0.039371718}, 'model_name': 'qwen-2.5-32b', 'system_fingerprint': 'fp_c527211fd1', 'finish_reason': 'stop', 'logprobs': None}, id='run-185d7c50-41c9-42f2-91f4-b4c168b3c175-0', usage_metadata={'input_tokens': 36, 'output_tokens': 7, 'total_tokens': 43})]}\n",
      "---Step 2---\n",
      "{'extra_message': 'Used Hindi Language', 'messages': [HumanMessage(content='What is Love in 3 Words', additional_kwargs={}, response_metadata={}, id='57e0f33f-6f1a-4735-8a57-4e04cba868ce'), AIMessage(content='Emotional Connection Intimacy', additional_kwargs={}, response_metadata={'token_usage': {'completion_tokens': 7, 'prompt_tokens': 36, 'total_tokens': 43, 'completion_time': 0.035, 'prompt_time': 0.004371718, 'queue_time': 0.048787320999999995, 'total_time': 0.039371718}, 'model_name': 'qwen-2.5-32b', 'system_fingerprint': 'fp_c527211fd1', 'finish_reason': 'stop', 'logprobs': None}, id='run-185d7c50-41c9-42f2-91f4-b4c168b3c175-0', usage_metadata={'input_tokens': 36, 'output_tokens': 7, 'total_tokens': 43}), AIMessage(content='Do you need more information on love or help with something else?', additional_kwargs={}, response_metadata={'token_usage': {'completion_tokens': 14, 'prompt_tokens': 52, 'total_tokens': 66, 'completion_time': 0.07, 'prompt_time': 0.005274735, 'queue_time': 0.050891394, 'total_time': 0.075274735}, 'model_name': 'qwen-2.5-32b', 'system_fingerprint': 'fp_c527211fd1', 'finish_reason': 'stop', 'logprobs': None}, id='run-fa47927d-a872-4bf4-bef6-730b1d389f13-0', usage_metadata={'input_tokens': 52, 'output_tokens': 14, 'total_tokens': 66})]}\n",
      "---Step 3---\n",
      "{'extra_message': 'Used Marathi Lanaguage', 'messages': [HumanMessage(content='What is Love in 3 Words', additional_kwargs={}, response_metadata={}, id='57e0f33f-6f1a-4735-8a57-4e04cba868ce'), AIMessage(content='Emotional Connection Intimacy', additional_kwargs={}, response_metadata={'token_usage': {'completion_tokens': 7, 'prompt_tokens': 36, 'total_tokens': 43, 'completion_time': 0.035, 'prompt_time': 0.004371718, 'queue_time': 0.048787320999999995, 'total_time': 0.039371718}, 'model_name': 'qwen-2.5-32b', 'system_fingerprint': 'fp_c527211fd1', 'finish_reason': 'stop', 'logprobs': None}, id='run-185d7c50-41c9-42f2-91f4-b4c168b3c175-0', usage_metadata={'input_tokens': 36, 'output_tokens': 7, 'total_tokens': 43}), AIMessage(content='Do you need more information on love or help with something else?', additional_kwargs={}, response_metadata={'token_usage': {'completion_tokens': 14, 'prompt_tokens': 52, 'total_tokens': 66, 'completion_time': 0.07, 'prompt_time': 0.005274735, 'queue_time': 0.050891394, 'total_time': 0.075274735}, 'model_name': 'qwen-2.5-32b', 'system_fingerprint': 'fp_c527211fd1', 'finish_reason': 'stop', 'logprobs': None}, id='run-fa47927d-a872-4bf4-bef6-730b1d389f13-0', usage_metadata={'input_tokens': 52, 'output_tokens': 14, 'total_tokens': 66}), AIMessage(content=\"Of course! How can I assist you further regarding love, or is there another topic you'd like to discuss?\", additional_kwargs={}, response_metadata={'token_usage': {'completion_tokens': 24, 'prompt_tokens': 75, 'total_tokens': 99, 'completion_time': 0.12, 'prompt_time': 0.006430279, 'queue_time': 0.050612142000000006, 'total_time': 0.126430279}, 'model_name': 'qwen-2.5-32b', 'system_fingerprint': 'fp_c527211fd1', 'finish_reason': 'stop', 'logprobs': None}, id='run-b2176a1e-5360-4965-9531-dcc923456c92-0', usage_metadata={'input_tokens': 75, 'output_tokens': 24, 'total_tokens': 99})]}\n"
     ]
    },
    {
     "data": {
      "text/plain": [
       "('step_4',)"
      ]
     },
     "execution_count": 7,
     "metadata": {},
     "output_type": "execute_result"
    }
   ],
   "source": [
    "# Input\n",
    "initial_input = {\"messages\": \"What is Love in 3 Words\", \"extra_message\": \"\"}\n",
    "\n",
    "# Thread\n",
    "thread = {\"configurable\": {\"thread_id\": \"1\"}}\n",
    "\n",
    "for event in graph.stream(initial_input, thread, stream_mode=\"values\"):\n",
    "    print(event)\n",
    "\n",
    "state = graph.get_state(thread)\n",
    "state.next\n"
   ]
  },
  {
   "cell_type": "code",
   "execution_count": 8,
   "metadata": {},
   "outputs": [
    {
     "name": "stdout",
     "output_type": "stream",
     "text": [
      "Current state!\n",
      "{'extra_message': 'Used Marathi Lanaguage', 'messages': [HumanMessage(content='What is Love in 3 Words', additional_kwargs={}, response_metadata={}, id='57e0f33f-6f1a-4735-8a57-4e04cba868ce'), AIMessage(content='Emotional Connection Intimacy', additional_kwargs={}, response_metadata={'token_usage': {'completion_tokens': 7, 'prompt_tokens': 36, 'total_tokens': 43, 'completion_time': 0.035, 'prompt_time': 0.004371718, 'queue_time': 0.048787320999999995, 'total_time': 0.039371718}, 'model_name': 'qwen-2.5-32b', 'system_fingerprint': 'fp_c527211fd1', 'finish_reason': 'stop', 'logprobs': None}, id='run-185d7c50-41c9-42f2-91f4-b4c168b3c175-0', usage_metadata={'input_tokens': 36, 'output_tokens': 7, 'total_tokens': 43}), AIMessage(content='Do you need more information on love or help with something else?', additional_kwargs={}, response_metadata={'token_usage': {'completion_tokens': 14, 'prompt_tokens': 52, 'total_tokens': 66, 'completion_time': 0.07, 'prompt_time': 0.005274735, 'queue_time': 0.050891394, 'total_time': 0.075274735}, 'model_name': 'qwen-2.5-32b', 'system_fingerprint': 'fp_c527211fd1', 'finish_reason': 'stop', 'logprobs': None}, id='run-fa47927d-a872-4bf4-bef6-730b1d389f13-0', usage_metadata={'input_tokens': 52, 'output_tokens': 14, 'total_tokens': 66}), AIMessage(content=\"Of course! How can I assist you further regarding love, or is there another topic you'd like to discuss?\", additional_kwargs={}, response_metadata={'token_usage': {'completion_tokens': 24, 'prompt_tokens': 75, 'total_tokens': 99, 'completion_time': 0.12, 'prompt_time': 0.006430279, 'queue_time': 0.050612142000000006, 'total_time': 0.126430279}, 'model_name': 'qwen-2.5-32b', 'system_fingerprint': 'fp_c527211fd1', 'finish_reason': 'stop', 'logprobs': None}, id='run-b2176a1e-5360-4965-9531-dcc923456c92-0', usage_metadata={'input_tokens': 75, 'output_tokens': 24, 'total_tokens': 99})]}\n"
     ]
    }
   ],
   "source": [
    "print(\"Current state!\")\n",
    "print(graph.get_state(thread).values)\n"
   ]
  },
  {
   "cell_type": "code",
   "execution_count": 9,
   "metadata": {},
   "outputs": [
    {
     "data": {
      "text/plain": [
       "{'configurable': {'thread_id': '1',\n",
       "  'checkpoint_ns': '',\n",
       "  'checkpoint_id': '1f00a812-990d-6c29-8004-f86f430cb455'}}"
      ]
     },
     "execution_count": 9,
     "metadata": {},
     "output_type": "execute_result"
    }
   ],
   "source": [
    "\n",
    "graph.update_state(thread, {\"messages\": HumanMessage(content=\"What is Love\"), \"extra_message\": \"XX\"})"
   ]
  },
  {
   "cell_type": "code",
   "execution_count": 10,
   "metadata": {},
   "outputs": [
    {
     "name": "stdout",
     "output_type": "stream",
     "text": [
      "{'extra_message': 'XX', 'messages': [HumanMessage(content='What is Love in 3 Words', additional_kwargs={}, response_metadata={}, id='57e0f33f-6f1a-4735-8a57-4e04cba868ce'), AIMessage(content='Emotional Connection Intimacy', additional_kwargs={}, response_metadata={'token_usage': {'completion_tokens': 7, 'prompt_tokens': 36, 'total_tokens': 43, 'completion_time': 0.035, 'prompt_time': 0.004371718, 'queue_time': 0.048787320999999995, 'total_time': 0.039371718}, 'model_name': 'qwen-2.5-32b', 'system_fingerprint': 'fp_c527211fd1', 'finish_reason': 'stop', 'logprobs': None}, id='run-185d7c50-41c9-42f2-91f4-b4c168b3c175-0', usage_metadata={'input_tokens': 36, 'output_tokens': 7, 'total_tokens': 43}), AIMessage(content='Do you need more information on love or help with something else?', additional_kwargs={}, response_metadata={'token_usage': {'completion_tokens': 14, 'prompt_tokens': 52, 'total_tokens': 66, 'completion_time': 0.07, 'prompt_time': 0.005274735, 'queue_time': 0.050891394, 'total_time': 0.075274735}, 'model_name': 'qwen-2.5-32b', 'system_fingerprint': 'fp_c527211fd1', 'finish_reason': 'stop', 'logprobs': None}, id='run-fa47927d-a872-4bf4-bef6-730b1d389f13-0', usage_metadata={'input_tokens': 52, 'output_tokens': 14, 'total_tokens': 66}), AIMessage(content=\"Of course! How can I assist you further regarding love, or is there another topic you'd like to discuss?\", additional_kwargs={}, response_metadata={'token_usage': {'completion_tokens': 24, 'prompt_tokens': 75, 'total_tokens': 99, 'completion_time': 0.12, 'prompt_time': 0.006430279, 'queue_time': 0.050612142000000006, 'total_time': 0.126430279}, 'model_name': 'qwen-2.5-32b', 'system_fingerprint': 'fp_c527211fd1', 'finish_reason': 'stop', 'logprobs': None}, id='run-b2176a1e-5360-4965-9531-dcc923456c92-0', usage_metadata={'input_tokens': 75, 'output_tokens': 24, 'total_tokens': 99}), HumanMessage(content='What is Love', additional_kwargs={}, response_metadata={}, id='9f852c40-b682-4095-bc8d-648e94b2a9ab')]}\n",
      "---Step 4---\n",
      "should_continue XXXX  {'extra_message': 'XX', 'messages': [HumanMessage(content='What is Love in 3 Words', additional_kwargs={}, response_metadata={}, id='57e0f33f-6f1a-4735-8a57-4e04cba868ce'), AIMessage(content='Emotional Connection Intimacy', additional_kwargs={}, response_metadata={'token_usage': {'completion_tokens': 7, 'prompt_tokens': 36, 'total_tokens': 43, 'completion_time': 0.035, 'prompt_time': 0.004371718, 'queue_time': 0.048787320999999995, 'total_time': 0.039371718}, 'model_name': 'qwen-2.5-32b', 'system_fingerprint': 'fp_c527211fd1', 'finish_reason': 'stop', 'logprobs': None}, id='run-185d7c50-41c9-42f2-91f4-b4c168b3c175-0', usage_metadata={'input_tokens': 36, 'output_tokens': 7, 'total_tokens': 43}), AIMessage(content='Do you need more information on love or help with something else?', additional_kwargs={}, response_metadata={'token_usage': {'completion_tokens': 14, 'prompt_tokens': 52, 'total_tokens': 66, 'completion_time': 0.07, 'prompt_time': 0.005274735, 'queue_time': 0.050891394, 'total_time': 0.075274735}, 'model_name': 'qwen-2.5-32b', 'system_fingerprint': 'fp_c527211fd1', 'finish_reason': 'stop', 'logprobs': None}, id='run-fa47927d-a872-4bf4-bef6-730b1d389f13-0', usage_metadata={'input_tokens': 52, 'output_tokens': 14, 'total_tokens': 66}), AIMessage(content=\"Of course! How can I assist you further regarding love, or is there another topic you'd like to discuss?\", additional_kwargs={}, response_metadata={'token_usage': {'completion_tokens': 24, 'prompt_tokens': 75, 'total_tokens': 99, 'completion_time': 0.12, 'prompt_time': 0.006430279, 'queue_time': 0.050612142000000006, 'total_time': 0.126430279}, 'model_name': 'qwen-2.5-32b', 'system_fingerprint': 'fp_c527211fd1', 'finish_reason': 'stop', 'logprobs': None}, id='run-b2176a1e-5360-4965-9531-dcc923456c92-0', usage_metadata={'input_tokens': 75, 'output_tokens': 24, 'total_tokens': 99}), HumanMessage(content='What is Love', additional_kwargs={}, response_metadata={}, id='9f852c40-b682-4095-bc8d-648e94b2a9ab')]}\n",
      "should_continue XXXX  XX\n",
      "---Step 2---\n",
      "{'extra_message': 'Used Hindi Language', 'messages': [HumanMessage(content='What is Love in 3 Words', additional_kwargs={}, response_metadata={}, id='57e0f33f-6f1a-4735-8a57-4e04cba868ce'), AIMessage(content='Emotional Connection Intimacy', additional_kwargs={}, response_metadata={'token_usage': {'completion_tokens': 7, 'prompt_tokens': 36, 'total_tokens': 43, 'completion_time': 0.035, 'prompt_time': 0.004371718, 'queue_time': 0.048787320999999995, 'total_time': 0.039371718}, 'model_name': 'qwen-2.5-32b', 'system_fingerprint': 'fp_c527211fd1', 'finish_reason': 'stop', 'logprobs': None}, id='run-185d7c50-41c9-42f2-91f4-b4c168b3c175-0', usage_metadata={'input_tokens': 36, 'output_tokens': 7, 'total_tokens': 43}), AIMessage(content='Do you need more information on love or help with something else?', additional_kwargs={}, response_metadata={'token_usage': {'completion_tokens': 14, 'prompt_tokens': 52, 'total_tokens': 66, 'completion_time': 0.07, 'prompt_time': 0.005274735, 'queue_time': 0.050891394, 'total_time': 0.075274735}, 'model_name': 'qwen-2.5-32b', 'system_fingerprint': 'fp_c527211fd1', 'finish_reason': 'stop', 'logprobs': None}, id='run-fa47927d-a872-4bf4-bef6-730b1d389f13-0', usage_metadata={'input_tokens': 52, 'output_tokens': 14, 'total_tokens': 66}), AIMessage(content=\"Of course! How can I assist you further regarding love, or is there another topic you'd like to discuss?\", additional_kwargs={}, response_metadata={'token_usage': {'completion_tokens': 24, 'prompt_tokens': 75, 'total_tokens': 99, 'completion_time': 0.12, 'prompt_time': 0.006430279, 'queue_time': 0.050612142000000006, 'total_time': 0.126430279}, 'model_name': 'qwen-2.5-32b', 'system_fingerprint': 'fp_c527211fd1', 'finish_reason': 'stop', 'logprobs': None}, id='run-b2176a1e-5360-4965-9531-dcc923456c92-0', usage_metadata={'input_tokens': 75, 'output_tokens': 24, 'total_tokens': 99}), HumanMessage(content='What is Love', additional_kwargs={}, response_metadata={}, id='9f852c40-b682-4095-bc8d-648e94b2a9ab'), AIMessage(content='Love is a complex mix of emotions, behaviors, and beliefs associated with strong feelings of affection, protectiveness, warmth, and respect for another person. It can also include deep romantic or sexual attraction. Love can vary widely in its expression and the contexts in which it is felt and shown.', additional_kwargs={}, response_metadata={'token_usage': {'completion_tokens': 59, 'prompt_tokens': 111, 'total_tokens': 170, 'completion_time': 0.295, 'prompt_time': 0.008472581, 'queue_time': 0.09961320900000001, 'total_time': 0.303472581}, 'model_name': 'qwen-2.5-32b', 'system_fingerprint': 'fp_c527211fd1', 'finish_reason': 'stop', 'logprobs': None}, id='run-fa7de463-138b-4896-aaae-b1f85fd0f29d-0', usage_metadata={'input_tokens': 111, 'output_tokens': 59, 'total_tokens': 170})]}\n",
      "---Step 3---\n",
      "{'extra_message': 'Used Marathi Lanaguage', 'messages': [HumanMessage(content='What is Love in 3 Words', additional_kwargs={}, response_metadata={}, id='57e0f33f-6f1a-4735-8a57-4e04cba868ce'), AIMessage(content='Emotional Connection Intimacy', additional_kwargs={}, response_metadata={'token_usage': {'completion_tokens': 7, 'prompt_tokens': 36, 'total_tokens': 43, 'completion_time': 0.035, 'prompt_time': 0.004371718, 'queue_time': 0.048787320999999995, 'total_time': 0.039371718}, 'model_name': 'qwen-2.5-32b', 'system_fingerprint': 'fp_c527211fd1', 'finish_reason': 'stop', 'logprobs': None}, id='run-185d7c50-41c9-42f2-91f4-b4c168b3c175-0', usage_metadata={'input_tokens': 36, 'output_tokens': 7, 'total_tokens': 43}), AIMessage(content='Do you need more information on love or help with something else?', additional_kwargs={}, response_metadata={'token_usage': {'completion_tokens': 14, 'prompt_tokens': 52, 'total_tokens': 66, 'completion_time': 0.07, 'prompt_time': 0.005274735, 'queue_time': 0.050891394, 'total_time': 0.075274735}, 'model_name': 'qwen-2.5-32b', 'system_fingerprint': 'fp_c527211fd1', 'finish_reason': 'stop', 'logprobs': None}, id='run-fa47927d-a872-4bf4-bef6-730b1d389f13-0', usage_metadata={'input_tokens': 52, 'output_tokens': 14, 'total_tokens': 66}), AIMessage(content=\"Of course! How can I assist you further regarding love, or is there another topic you'd like to discuss?\", additional_kwargs={}, response_metadata={'token_usage': {'completion_tokens': 24, 'prompt_tokens': 75, 'total_tokens': 99, 'completion_time': 0.12, 'prompt_time': 0.006430279, 'queue_time': 0.050612142000000006, 'total_time': 0.126430279}, 'model_name': 'qwen-2.5-32b', 'system_fingerprint': 'fp_c527211fd1', 'finish_reason': 'stop', 'logprobs': None}, id='run-b2176a1e-5360-4965-9531-dcc923456c92-0', usage_metadata={'input_tokens': 75, 'output_tokens': 24, 'total_tokens': 99}), HumanMessage(content='What is Love', additional_kwargs={}, response_metadata={}, id='9f852c40-b682-4095-bc8d-648e94b2a9ab'), AIMessage(content='Love is a complex mix of emotions, behaviors, and beliefs associated with strong feelings of affection, protectiveness, warmth, and respect for another person. It can also include deep romantic or sexual attraction. Love can vary widely in its expression and the contexts in which it is felt and shown.', additional_kwargs={}, response_metadata={'token_usage': {'completion_tokens': 59, 'prompt_tokens': 111, 'total_tokens': 170, 'completion_time': 0.295, 'prompt_time': 0.008472581, 'queue_time': 0.09961320900000001, 'total_time': 0.303472581}, 'model_name': 'qwen-2.5-32b', 'system_fingerprint': 'fp_c527211fd1', 'finish_reason': 'stop', 'logprobs': None}, id='run-fa7de463-138b-4896-aaae-b1f85fd0f29d-0', usage_metadata={'input_tokens': 111, 'output_tokens': 59, 'total_tokens': 170}), AIMessage(content=\"Do you have a specific aspect of love you're interested in exploring further, such as different types of love, its impact on well-being, or how it is expressed in relationships?\", additional_kwargs={}, response_metadata={'token_usage': {'completion_tokens': 37, 'prompt_tokens': 179, 'total_tokens': 216, 'completion_time': 0.185, 'prompt_time': 0.013250192, 'queue_time': 0.051240678000000005, 'total_time': 0.198250192}, 'model_name': 'qwen-2.5-32b', 'system_fingerprint': 'fp_c527211fd1', 'finish_reason': 'stop', 'logprobs': None}, id='run-e1a93f8e-e1c8-4d49-bf5c-84e124f9473d-0', usage_metadata={'input_tokens': 179, 'output_tokens': 37, 'total_tokens': 216})]}\n"
     ]
    }
   ],
   "source": [
    "for event in graph.stream(None, thread, stream_mode=\"values\"):\n",
    "    print(event)"
   ]
  },
  {
   "cell_type": "code",
   "execution_count": null,
   "metadata": {},
   "outputs": [],
   "source": []
  }
 ],
 "metadata": {
  "kernelspec": {
   "display_name": "Python 3",
   "language": "python",
   "name": "python3"
  },
  "language_info": {
   "codemirror_mode": {
    "name": "ipython",
    "version": 3
   },
   "file_extension": ".py",
   "mimetype": "text/x-python",
   "name": "python",
   "nbconvert_exporter": "python",
   "pygments_lexer": "ipython3",
   "version": "3.12.0"
  }
 },
 "nbformat": 4,
 "nbformat_minor": 2
}
